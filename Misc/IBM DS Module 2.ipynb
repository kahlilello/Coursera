{
  "metadata": {
    "language_info": {
      "codemirror_mode": {
        "name": "python",
        "version": 3
      },
      "file_extension": ".py",
      "mimetype": "text/x-python",
      "name": "python",
      "nbconvert_exporter": "python",
      "pygments_lexer": "ipython3",
      "version": "3.8"
    },
    "kernelspec": {
      "name": "python",
      "display_name": "Pyolite",
      "language": "python"
    }
  },
  "nbformat_minor": 4,
  "nbformat": 4,
  "cells": [
    {
      "cell_type": "markdown",
      "source": "# MY Jupyter Notebook on IBM Watson Studio",
      "metadata": {
        "tags": []
      }
    },
    {
      "cell_type": "markdown",
      "source": "<b>Kahlil Ello</b>  \nStudent",
      "metadata": {}
    },
    {
      "cell_type": "markdown",
      "source": "<i>I am interested in data science because I love the idea of using data to solve complex problems.</i>",
      "metadata": {}
    },
    {
      "cell_type": "markdown",
      "source": "### The cell bellow displays the phrase \"Hello World!\" three times :)",
      "metadata": {}
    },
    {
      "cell_type": "code",
      "source": "print(\"Hello world! \"*3)",
      "metadata": {
        "trusted": true
      },
      "execution_count": 5,
      "outputs": [
        {
          "name": "stdout",
          "text": "Hello world! Hello world! Hello world! \n",
          "output_type": "stream"
        }
      ]
    },
    {
      "cell_type": "markdown",
      "source": "##### Table below in horizontal rule w/ strikethroughs, hyperlinks, and bulleted and numbered lists :)\n|~~Strikethrough~~ | [You are amazing](https://youtu.be/dFXThX479PE)|\n|------:|------:|\n|- You <br/> - Are <br/> - Amazing! | 1. You <br/> 2. can <br/> 3. do this!|",
      "metadata": {}
    }
  ]
}
